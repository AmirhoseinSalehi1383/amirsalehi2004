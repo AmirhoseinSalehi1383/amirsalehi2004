{
 "cells": [
  {
   "cell_type": "code",
   "execution_count": 1,
   "id": "fcfd7fbe-79ba-4b87-805a-ad6914199f54",
   "metadata": {},
   "outputs": [
    {
     "name": "stdout",
     "output_type": "stream",
     "text": [
      "helo wold\n"
     ]
    }
   ],
   "source": [
    "print (\"helo wold\")\n"
   ]
  },
  {
   "cell_type": "code",
   "execution_count": 8,
   "id": "4416851b-6b50-4fef-be27-46ad8418447e",
   "metadata": {},
   "outputs": [
    {
     "name": "stdout",
     "output_type": "stream",
     "text": [
      "5\n",
      "amir\n"
     ]
    }
   ],
   "source": [
    "x = 5\n",
    "y = \"amir\"\n",
    "print(x)\n",
    "print(y)\n"
   ]
  },
  {
   "cell_type": "code",
   "execution_count": 10,
   "id": "9fb635a5-88e9-4e68-bafc-e573181f3859",
   "metadata": {},
   "outputs": [
    {
     "name": "stdout",
     "output_type": "stream",
     "text": [
      "amir\n",
      "ali\n",
      "nima\n"
     ]
    }
   ],
   "source": [
    "x, y, z = \"amir\", \"ali\", \"nima\"\n",
    "print(x)\n",
    "print(y)\n",
    "print(z)"
   ]
  },
  {
   "cell_type": "code",
   "execution_count": 11,
   "id": "33f68e83-0cac-46c4-ae92-4d8bf00a8fff",
   "metadata": {},
   "outputs": [
    {
     "name": "stdout",
     "output_type": "stream",
     "text": [
      "amir hossin\n"
     ]
    }
   ],
   "source": [
    "x = \"amir hossin\"\n",
    "print(x)"
   ]
  },
  {
   "cell_type": "code",
   "execution_count": 13,
   "id": "03e95d5a-d942-4cfb-b964-b17045fcd006",
   "metadata": {},
   "outputs": [
    {
     "name": "stdout",
     "output_type": "stream",
     "text": [
      "salehi amir\n"
     ]
    }
   ],
   "source": [
    "x = \"amir\"\n",
    "\n",
    "def myfunc():\n",
    "  print(\"salehi \" + x)\n",
    "\n",
    "myfunc()"
   ]
  },
  {
   "cell_type": "code",
   "execution_count": 2,
   "id": "8b57ca6c-1b5a-4378-a6d2-e5f9505aeae9",
   "metadata": {},
   "outputs": [
    {
     "ename": "SyntaxError",
     "evalue": "unmatched ')' (3325304557.py, line 2)",
     "output_type": "error",
     "traceback": [
      "  \u001b[36mCell\u001b[39m\u001b[36m \u001b[39m\u001b[32mIn[2]\u001b[39m\u001b[32m, line 2\u001b[39m\n\u001b[31m    \u001b[39m\u001b[31mreturn  sum (y-w*e)for mu in range (0,2))\u001b[39m\n                                            ^\n\u001b[31mSyntaxError\u001b[39m\u001b[31m:\u001b[39m unmatched ')'\n"
     ]
    }
   ],
   "source": [
    "def f(w,y,e):\n",
    "    return  sum (y-w*e)for mu in range (0,2))\n",
    "    print (f(2,5,3))"
   ]
  },
  {
   "cell_type": "code",
   "execution_count": 11,
   "id": "26dc2c23-95a2-4110-8d34-31a04ec32e57",
   "metadata": {},
   "outputs": [],
   "source": [
    "def f(w, x, y):\n",
    "    n = len(x)\n",
    "    return sum((y[i] - w * x[i])**2 for i in range(5, n))"
   ]
  },
  {
   "cell_type": "code",
   "execution_count": 12,
   "id": "22d92337-e92f-4118-96e2-b3fe5b282042",
   "metadata": {},
   "outputs": [
    {
     "name": "stdout",
     "output_type": "stream",
     "text": [
      "275.56000000000006\n"
     ]
    }
   ],
   "source": [
    "x = [1, 5, 9, 17, 2, 4]\n",
    "y = [22, 10, 45, 55, 2, 19]\n",
    "w = 0.6\n",
    "\n",
    "print(f(w, x, y))"
   ]
  },
  {
   "cell_type": "code",
   "execution_count": null,
   "id": "b50f4f15-f7a9-49d2-87ae-777a95a454d5",
   "metadata": {},
   "outputs": [],
   "source": []
  },
  {
   "cell_type": "code",
   "execution_count": null,
   "id": "16ba3767-bc35-4bb1-b309-2f3e502ae261",
   "metadata": {},
   "outputs": [],
   "source": []
  }
 ],
 "metadata": {
  "kernelspec": {
   "display_name": "Python 3 (ipykernel)",
   "language": "python",
   "name": "python3"
  },
  "language_info": {
   "codemirror_mode": {
    "name": "ipython",
    "version": 3
   },
   "file_extension": ".py",
   "mimetype": "text/x-python",
   "name": "python",
   "nbconvert_exporter": "python",
   "pygments_lexer": "ipython3",
   "version": "3.13.7"
  }
 },
 "nbformat": 4,
 "nbformat_minor": 5
}
